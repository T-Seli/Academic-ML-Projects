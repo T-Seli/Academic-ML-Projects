{
 "cells": [
  {
   "cell_type": "code",
   "execution_count": 4,
   "id": "b43f9ec5-49d8-4a7a-9439-d8cbc07faf9a",
   "metadata": {},
   "outputs": [
    {
     "name": "stderr",
     "output_type": "stream",
     "text": [
      "'getOption(\"repos\")' replaces Bioconductor standard repositories, see\n",
      "'help(\"repositories\", package = \"BiocManager\")' for details.\n",
      "Replacement repositories:\n",
      "    CRAN: https://cran.r-project.org\n",
      "\n",
      "Bioconductor version 3.18 (BiocManager 1.30.22), R 4.3.3 (2024-02-29 ucrt)\n",
      "\n",
      "Installation paths not writeable, unable to update packages\n",
      "  path: C:/Program Files/R/R-4.3.3/library\n",
      "  packages:\n",
      "    boot, codetools, lattice\n",
      "\n",
      "Old packages: 'bslib', 'htmltools', 'repr', 'xfun'\n",
      "\n",
      "'getOption(\"repos\")' replaces Bioconductor standard repositories, see\n",
      "'help(\"repositories\", package = \"BiocManager\")' for details.\n",
      "Replacement repositories:\n",
      "    CRAN: https://cran.r-project.org\n",
      "\n",
      "Bioconductor version 3.18 (BiocManager 1.30.22), R 4.3.3 (2024-02-29 ucrt)\n",
      "\n",
      "Warning message:\n",
      "\"package(s) not installed when version(s) same as or greater than current; use\n",
      "  `force = TRUE` to re-install: 'DNAshapeR'\"\n",
      "Installation paths not writeable, unable to update packages\n",
      "  path: C:/Program Files/R/R-4.3.3/library\n",
      "  packages:\n",
      "    boot, codetools, lattice\n",
      "\n",
      "Old packages: 'bslib', 'htmltools', 'repr', 'xfun'\n",
      "\n"
     ]
    }
   ],
   "source": [
    "if (!requireNamespace(\"BiocManager\", quietly = TRUE))\n",
    "    install.packages(\"BiocManager\")\n",
    "BiocManager::install(version = \"3.18\", force = TRUE)\n",
    "BiocManager::install(\"DNAshapeR\")\n",
    "library(DNAshapeR, quietly = TRUE)"
   ]
  },
  {
   "cell_type": "code",
   "execution_count": 5,
   "id": "a796e610-0df8-428f-b8d4-1483cc24b56c",
   "metadata": {},
   "outputs": [
    {
     "name": "stdout",
     "output_type": "stream",
     "text": [
      "Reading the input sequence......\n",
      "Reading the input sequence......\n",
      "Reading the input sequence......\n",
      "Reading the input sequence......\n",
      "Reading the input sequence......\n"
     ]
    },
    {
     "name": "stderr",
     "output_type": "stream",
     "text": [
      "Parsing files......\n",
      "\n",
      "Record length: 30\n",
      "\n",
      "Record length: 29\n",
      "\n",
      "Record length: 30\n",
      "\n",
      "Record length: 29\n",
      "\n",
      "Record length: 30\n",
      "\n",
      "Done\n",
      "\n"
     ]
    },
    {
     "name": "stdout",
     "output_type": "stream",
     "text": [
      "Reading the input sequence......\n",
      "Reading the input sequence......\n",
      "Reading the input sequence......\n",
      "Reading the input sequence......\n",
      "Reading the input sequence......\n"
     ]
    },
    {
     "name": "stderr",
     "output_type": "stream",
     "text": [
      "Parsing files......\n",
      "\n",
      "Record length: 30\n",
      "\n",
      "Record length: 29\n",
      "\n",
      "Record length: 30\n",
      "\n",
      "Record length: 29\n",
      "\n",
      "Record length: 30\n",
      "\n",
      "Done\n",
      "\n"
     ]
    },
    {
     "name": "stdout",
     "output_type": "stream",
     "text": [
      "Reading the input sequence......\n",
      "Reading the input sequence......\n",
      "Reading the input sequence......\n",
      "Reading the input sequence......\n",
      "Reading the input sequence......\n"
     ]
    },
    {
     "name": "stderr",
     "output_type": "stream",
     "text": [
      "Parsing files......\n",
      "\n",
      "Record length: 30\n",
      "\n",
      "Record length: 29\n",
      "\n",
      "Record length: 30\n",
      "\n",
      "Record length: 29\n",
      "\n",
      "Record length: 30\n",
      "\n",
      "Done\n",
      "\n"
     ]
    },
    {
     "name": "stdout",
     "output_type": "stream",
     "text": [
      "Reading the input sequence......\n",
      "Reading the input sequence......\n",
      "Reading the input sequence......\n",
      "Reading the input sequence......\n",
      "Reading the input sequence......\n"
     ]
    },
    {
     "name": "stderr",
     "output_type": "stream",
     "text": [
      "Parsing files......\n",
      "\n",
      "Record length: 30\n",
      "\n",
      "Record length: 29\n",
      "\n",
      "Record length: 30\n",
      "\n",
      "Record length: 29\n",
      "\n",
      "Record length: 30\n",
      "\n",
      "Done\n",
      "\n"
     ]
    }
   ],
   "source": [
    "ctcf_unbound_pred = getShape(\"ctcf_unbound.fasta\")\n",
    "ctcf_bound_pred = getShape(\"ctcf_bound.fasta\")\n",
    "max_unbound_pred = getShape(\"max_unbound.fasta\")\n",
    "max_bound_pred = getShape(\"max_bound.fasta\")"
   ]
  },
  {
   "cell_type": "code",
   "execution_count": 7,
   "id": "b4e7697e-c110-403f-8ca3-9af29dd1fd1c",
   "metadata": {},
   "outputs": [],
   "source": [
    "create_csv = function(shape, file_name){\n",
    "    write.csv(as.data.frame(shape$MGW), paste0(file_name, \"_MGW.csv\"), row.names = FALSE)\n",
    "    write.csv(as.data.frame(shape$ProT), paste0(file_name, \"_ProT.csv\"), row.names = FALSE )\n",
    "    write.csv(as.data.frame(shape$HelT), paste0(file_name, \"_HelT.csv\"), row.names = FALSE)\n",
    "    write.csv(as.data.frame(shape$Roll), paste0(file_name, \"_Roll.csv\"), row.names = FALSE)\n",
    "    write.csv(as.data.frame(shape$EP), paste0(file_name, \"_EP.csv\"), row.names = FALSE)\n",
    "}"
   ]
  },
  {
   "cell_type": "code",
   "execution_count": 8,
   "id": "0a490a34-6555-4db2-a6bf-e7abfa6c9b34",
   "metadata": {},
   "outputs": [],
   "source": [
    "create_csv(ctcf_unbound_pred, \"ctcf_unbound\")\n",
    "create_csv(ctcf_bound_pred, \"ctcf_bound\")\n",
    "create_csv(max_unbound_pred, \"max_unbound\")\n",
    "create_csv(max_bound_pred, \"max_bound\")"
   ]
  },
  {
   "cell_type": "code",
   "execution_count": null,
   "id": "a0286047-2a23-46fd-97f5-9febd6156c07",
   "metadata": {},
   "outputs": [],
   "source": []
  }
 ],
 "metadata": {
  "kernelspec": {
   "display_name": "R 4.3.2",
   "language": "R",
   "name": "ir432"
  },
  "language_info": {
   "codemirror_mode": "r",
   "file_extension": ".r",
   "mimetype": "text/x-r-source",
   "name": "R",
   "pygments_lexer": "r",
   "version": "4.3.3"
  }
 },
 "nbformat": 4,
 "nbformat_minor": 5
}
