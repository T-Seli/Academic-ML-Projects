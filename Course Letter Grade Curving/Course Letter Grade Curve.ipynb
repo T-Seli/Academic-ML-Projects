{
 "cells": [
  {
   "cell_type": "markdown",
   "id": "a6b68a4b-8e27-458c-9921-39167b822c94",
   "metadata": {},
   "source": [
    "# **MATH 446: Assignment 1, Thomas Seli**"
   ]
  },
  {
   "cell_type": "code",
   "execution_count": 281,
   "id": "ed3cc63e-f863-410d-b9a1-745212ef30b0",
   "metadata": {},
   "outputs": [],
   "source": [
    "import numpy as np\n",
    "import pandas as pd\n",
    "import seaborn as sns\n",
    "import matplotlib.pyplot as plt\n",
    "import scipy as sp"
   ]
  },
  {
   "cell_type": "code",
   "execution_count": 282,
   "id": "904365e4-3c4f-4cd2-a309-add517aa96d2",
   "metadata": {},
   "outputs": [],
   "source": [
    "path_to_file = \"C:\\\\Users\\\\thoma\\\\OneDrive\\\\Desktop\\\\MATH 446\\\\Data Files\\\\new_scores (2).csv\"\n",
    "scores_df = pd.read_csv(path_to_file)"
   ]
  },
  {
   "cell_type": "markdown",
   "id": "58bb8364-6289-4b95-928b-5271bf18d27b",
   "metadata": {},
   "source": [
    "# **Basic Dataset Wrangling**"
   ]
  },
  {
   "cell_type": "markdown",
   "id": "e35811eb-a42f-4040-b220-62113e8aa458",
   "metadata": {},
   "source": [
    "After importing all necessary packages and loading the data set, my first task is to perform some basic data wrangling so that I can work with the properly filtered and formatted data. I begin this process by dropping all students that did not take the final exam from the dataframe so that my data is not skewed by scores from student's who dropped the course and are not eligiible to receive a final grade. After dropping these students I decided to see how many null values I have in my dataframe in order to decide if further wrangling is necessary. As we can see, there is only one null value in the dataframe after dropping the ineligible students, which will be inferred later using linear regression. Next, I decided to reindex the dataset using the 'student_id' column becuase it is redundant to have a standard index when 'student_id' can also be used to uniquely identify each student. Now that I am satisfied with my new dataframe I can proceed to the next steps of determing student grades. "
   ]
  },
  {
   "cell_type": "code",
   "execution_count": 283,
   "id": "0d8bd573-15d9-434c-9567-693c6ae843d4",
   "metadata": {},
   "outputs": [
    {
     "data": {
      "text/plain": [
       "student_id    0\n",
       "final         0\n",
       "midterm_1     1\n",
       "midterm_2     0\n",
       "midterm_3     0\n",
       "quiz_1        0\n",
       "quiz_2        0\n",
       "quiz_3        0\n",
       "quiz_4        0\n",
       "quiz_5        0\n",
       "quiz_6        0\n",
       "quiz_7        0\n",
       "quiz_8        0\n",
       "quiz_9        0\n",
       "quiz_10       0\n",
       "quiz_11       0\n",
       "dtype: int64"
      ]
     },
     "execution_count": 283,
     "metadata": {},
     "output_type": "execute_result"
    }
   ],
   "source": [
    "scores_df = scores_df.loc[~scores_df.final.isna(), :]\n",
    "scores_df.isna().sum()"
   ]
  },
  {
   "cell_type": "code",
   "execution_count": 284,
   "id": "ecf61ee0-6c14-4c5d-a559-c2dcce3a58f3",
   "metadata": {},
   "outputs": [
    {
     "data": {
      "text/html": [
       "<div>\n",
       "<style scoped>\n",
       "    .dataframe tbody tr th:only-of-type {\n",
       "        vertical-align: middle;\n",
       "    }\n",
       "\n",
       "    .dataframe tbody tr th {\n",
       "        vertical-align: top;\n",
       "    }\n",
       "\n",
       "    .dataframe thead th {\n",
       "        text-align: right;\n",
       "    }\n",
       "</style>\n",
       "<table border=\"1\" class=\"dataframe\">\n",
       "  <thead>\n",
       "    <tr style=\"text-align: right;\">\n",
       "      <th></th>\n",
       "      <th>final</th>\n",
       "      <th>midterm_1</th>\n",
       "      <th>midterm_2</th>\n",
       "      <th>midterm_3</th>\n",
       "      <th>quiz_1</th>\n",
       "      <th>quiz_2</th>\n",
       "      <th>quiz_3</th>\n",
       "      <th>quiz_4</th>\n",
       "      <th>quiz_5</th>\n",
       "      <th>quiz_6</th>\n",
       "      <th>quiz_7</th>\n",
       "      <th>quiz_8</th>\n",
       "      <th>quiz_9</th>\n",
       "      <th>quiz_10</th>\n",
       "      <th>quiz_11</th>\n",
       "    </tr>\n",
       "    <tr>\n",
       "      <th>student_id</th>\n",
       "      <th></th>\n",
       "      <th></th>\n",
       "      <th></th>\n",
       "      <th></th>\n",
       "      <th></th>\n",
       "      <th></th>\n",
       "      <th></th>\n",
       "      <th></th>\n",
       "      <th></th>\n",
       "      <th></th>\n",
       "      <th></th>\n",
       "      <th></th>\n",
       "      <th></th>\n",
       "      <th></th>\n",
       "      <th></th>\n",
       "    </tr>\n",
       "  </thead>\n",
       "  <tbody>\n",
       "    <tr>\n",
       "      <th>1367593690</th>\n",
       "      <td>96.0</td>\n",
       "      <td>68.0</td>\n",
       "      <td>57.0</td>\n",
       "      <td>65.0</td>\n",
       "      <td>9.0</td>\n",
       "      <td>7.0</td>\n",
       "      <td>4.0</td>\n",
       "      <td>4.0</td>\n",
       "      <td>6.0</td>\n",
       "      <td>9.0</td>\n",
       "      <td>7.0</td>\n",
       "      <td>9.0</td>\n",
       "      <td>6.0</td>\n",
       "      <td>4.0</td>\n",
       "      <td>7.0</td>\n",
       "    </tr>\n",
       "    <tr>\n",
       "      <th>1567876630</th>\n",
       "      <td>69.0</td>\n",
       "      <td>84.0</td>\n",
       "      <td>60.0</td>\n",
       "      <td>74.0</td>\n",
       "      <td>10.0</td>\n",
       "      <td>5.0</td>\n",
       "      <td>8.0</td>\n",
       "      <td>3.0</td>\n",
       "      <td>4.0</td>\n",
       "      <td>9.0</td>\n",
       "      <td>5.0</td>\n",
       "      <td>9.0</td>\n",
       "      <td>6.0</td>\n",
       "      <td>7.0</td>\n",
       "      <td>10.0</td>\n",
       "    </tr>\n",
       "    <tr>\n",
       "      <th>1617655608</th>\n",
       "      <td>94.0</td>\n",
       "      <td>84.0</td>\n",
       "      <td>77.0</td>\n",
       "      <td>53.0</td>\n",
       "      <td>10.0</td>\n",
       "      <td>10.0</td>\n",
       "      <td>7.0</td>\n",
       "      <td>7.0</td>\n",
       "      <td>4.0</td>\n",
       "      <td>10.0</td>\n",
       "      <td>9.0</td>\n",
       "      <td>9.0</td>\n",
       "      <td>0.0</td>\n",
       "      <td>7.0</td>\n",
       "      <td>0.0</td>\n",
       "    </tr>\n",
       "    <tr>\n",
       "      <th>1830694822</th>\n",
       "      <td>52.0</td>\n",
       "      <td>51.0</td>\n",
       "      <td>66.0</td>\n",
       "      <td>47.0</td>\n",
       "      <td>10.0</td>\n",
       "      <td>4.0</td>\n",
       "      <td>3.0</td>\n",
       "      <td>7.0</td>\n",
       "      <td>4.0</td>\n",
       "      <td>8.0</td>\n",
       "      <td>0.0</td>\n",
       "      <td>9.0</td>\n",
       "      <td>5.0</td>\n",
       "      <td>8.0</td>\n",
       "      <td>7.0</td>\n",
       "    </tr>\n",
       "    <tr>\n",
       "      <th>2267294565</th>\n",
       "      <td>79.0</td>\n",
       "      <td>70.0</td>\n",
       "      <td>59.0</td>\n",
       "      <td>74.0</td>\n",
       "      <td>8.5</td>\n",
       "      <td>8.0</td>\n",
       "      <td>7.5</td>\n",
       "      <td>6.5</td>\n",
       "      <td>9.5</td>\n",
       "      <td>7.5</td>\n",
       "      <td>6.5</td>\n",
       "      <td>8.5</td>\n",
       "      <td>9.0</td>\n",
       "      <td>8.0</td>\n",
       "      <td>9.0</td>\n",
       "    </tr>\n",
       "  </tbody>\n",
       "</table>\n",
       "</div>"
      ],
      "text/plain": [
       "            final  midterm_1  midterm_2  midterm_3  quiz_1  quiz_2  quiz_3  \\\n",
       "student_id                                                                   \n",
       "1367593690   96.0       68.0       57.0       65.0     9.0     7.0     4.0   \n",
       "1567876630   69.0       84.0       60.0       74.0    10.0     5.0     8.0   \n",
       "1617655608   94.0       84.0       77.0       53.0    10.0    10.0     7.0   \n",
       "1830694822   52.0       51.0       66.0       47.0    10.0     4.0     3.0   \n",
       "2267294565   79.0       70.0       59.0       74.0     8.5     8.0     7.5   \n",
       "\n",
       "            quiz_4  quiz_5  quiz_6  quiz_7  quiz_8  quiz_9  quiz_10  quiz_11  \n",
       "student_id                                                                    \n",
       "1367593690     4.0     6.0     9.0     7.0     9.0     6.0      4.0      7.0  \n",
       "1567876630     3.0     4.0     9.0     5.0     9.0     6.0      7.0     10.0  \n",
       "1617655608     7.0     4.0    10.0     9.0     9.0     0.0      7.0      0.0  \n",
       "1830694822     7.0     4.0     8.0     0.0     9.0     5.0      8.0      7.0  \n",
       "2267294565     6.5     9.5     7.5     6.5     8.5     9.0      8.0      9.0  "
      ]
     },
     "execution_count": 284,
     "metadata": {},
     "output_type": "execute_result"
    }
   ],
   "source": [
    "scores_df.index = scores_df.student_id\n",
    "scores_df = scores_df.drop(columns=\"student_id\")\n",
    "scores_df.head()"
   ]
  },
  {
   "cell_type": "markdown",
   "id": "7c6aec93-bdd7-4fc7-b804-a3bc7cacdc34",
   "metadata": {},
   "source": [
    "# **Calculating Quiz Average**"
   ]
  },
  {
   "cell_type": "markdown",
   "id": "d58fe90e-c58d-458e-8b2c-ef445c816d3f",
   "metadata": {},
   "source": [
    "After the data wrangling, my first task is to calculate the quiz average for each student after dropping the two lowest quiz scores. Simply aggregating the overall quiz average of each student would have been a straight forward process, however, the fact that I must first drop the two lowest quiz scores made the process of finding the quiz averages slightly more complex. To perform this process I created the 'quiz_average' function. First, I decided to slice out the quiz scores of each student from the dataframe and put the sliced dataframe of quiz scores for each student into a list.  Next, I looped through this list of sliced dataframes and sorted each distinct dataframe of quiz scores and dropped the two lowest scores. Then, I calculated the averages of the new quiz score dataframes and appended the quiz averages for each student to the 'quiz_dropped_ave' list. The function then returns this list of aggregated quiz averages. After feeding the original dataframe to this function and getting the list of quiz averages, I created the 'agg_score_df' where the first column of values is exactly the quiz averages that were just calculated. This 'agg_score_df' dataframe will be further modified throughout the project and will eventually be used to find the overall letter grades. "
   ]
  },
  {
   "cell_type": "code",
   "execution_count": 285,
   "id": "fc76f842-d47c-4597-bfb7-2eeece0f0090",
   "metadata": {},
   "outputs": [
    {
     "data": {
      "text/html": [
       "<div>\n",
       "<style scoped>\n",
       "    .dataframe tbody tr th:only-of-type {\n",
       "        vertical-align: middle;\n",
       "    }\n",
       "\n",
       "    .dataframe tbody tr th {\n",
       "        vertical-align: top;\n",
       "    }\n",
       "\n",
       "    .dataframe thead th {\n",
       "        text-align: right;\n",
       "    }\n",
       "</style>\n",
       "<table border=\"1\" class=\"dataframe\">\n",
       "  <thead>\n",
       "    <tr style=\"text-align: right;\">\n",
       "      <th></th>\n",
       "      <th>quiz_ave</th>\n",
       "    </tr>\n",
       "    <tr>\n",
       "      <th>student_id</th>\n",
       "      <th></th>\n",
       "    </tr>\n",
       "  </thead>\n",
       "  <tbody>\n",
       "    <tr>\n",
       "      <th>1367593690</th>\n",
       "      <td>7.111111</td>\n",
       "    </tr>\n",
       "    <tr>\n",
       "      <th>1567876630</th>\n",
       "      <td>7.666667</td>\n",
       "    </tr>\n",
       "    <tr>\n",
       "      <th>1617655608</th>\n",
       "      <td>8.111111</td>\n",
       "    </tr>\n",
       "    <tr>\n",
       "      <th>1830694822</th>\n",
       "      <td>6.888889</td>\n",
       "    </tr>\n",
       "    <tr>\n",
       "      <th>2267294565</th>\n",
       "      <td>8.388889</td>\n",
       "    </tr>\n",
       "  </tbody>\n",
       "</table>\n",
       "</div>"
      ],
      "text/plain": [
       "            quiz_ave\n",
       "student_id          \n",
       "1367593690  7.111111\n",
       "1567876630  7.666667\n",
       "1617655608  8.111111\n",
       "1830694822  6.888889\n",
       "2267294565  8.388889"
      ]
     },
     "execution_count": 285,
     "metadata": {},
     "output_type": "execute_result"
    }
   ],
   "source": [
    "def quiz_average(scores_df):\n",
    "    quiz_scores = []\n",
    "    quiz_dropped_ave = []\n",
    "    \n",
    "    for i in scores_df.index:\n",
    "        quiz_scores.append(scores_df.loc[i, 'quiz_1':])\n",
    "    \n",
    "    for student in quiz_scores:\n",
    "        student.sort_values(ascending=True, inplace=True)\n",
    "        student.drop(index=student.index[:2], axis=0, inplace=True)\n",
    "        quiz_dropped_ave.append(student.mean())\n",
    "\n",
    "    return quiz_dropped_ave\n",
    "\n",
    "quiz_dropped_ave = quiz_average(scores_df)\n",
    "agg_score_df = pd.DataFrame(quiz_dropped_ave, index = scores_df.index)\n",
    "agg_score_df.columns = ['quiz_ave']\n",
    "agg_score_df.head()"
   ]
  },
  {
   "cell_type": "markdown",
   "id": "4e156c09-d65d-47e2-9633-18c5aca58c19",
   "metadata": {},
   "source": [
    "# **Inferring Missing Midterm Values**"
   ]
  },
  {
   "cell_type": "markdown",
   "id": "049680bd-547d-4cfd-9e54-1dfe02a1c782",
   "metadata": {},
   "source": [
    "Before I can find the weighted midterm average for each student, I must first infer the missing midterm value found earlier when I did the initial data wrangling. To infer this missing value I will use a linear regression of the 'quiz_ave' I just calculated against 'midterm_1', the midterm for which we have the missing value. So, I created the 'midterm_regression_df' with the columns discussed and fed it to the linear regression algorithm in seaborn and got the plot seen below. We can see from the linear regression plot that the model is best for inferring quiz_averages between 8-9 because this is where the 95% confidence interval for the regression is the most precise. Now that we have the model, the next challenge was actually inferring the missing midterm value. To do so, I took the data for the x and y-values of the linear regression and used 'np.polyfit' to find the slope and intercept of the model. Now that I have found the slope and intercept, inferring the missing midterm value is as simple as feeding the quiz average of the student with the missing midterm value into the slope-intercept form of the model. I could have simply referred to the original dataframe and found the single student with the missing midterm and simply inferred the score, however I wanted to create a loop that could be generalized to the case where more then one student has a missing midterm value. So, I used a for loop to iterate through the 'midterm_regression_df' and a conditional statement to perform the midterm inference if the score is missing and replace the null value with the inferred value in the original 'scores_df' dataframe. As we can see, the linear regression inferred a score of about 48 for the student with the missing midterm. "
   ]
  },
  {
   "cell_type": "code",
   "execution_count": 286,
   "id": "d810a0e9-a81d-4521-b8eb-f0d7ac328caa",
   "metadata": {},
   "outputs": [
    {
     "data": {
      "image/png": "[encoded data removed]",
      "text/plain": [
       "<Figure size 1000x600 with 1 Axes>"
      ]
     },
     "metadata": {},
     "output_type": "display_data"
    }
   ],
   "source": [
    "midterm_regression_df = agg_score_df.copy()\n",
    "midterm_regression_df[\"midterm_1\"] = scores_df.midterm_1\n",
    "mt_reg = sns.regplot(data=midterm_regression_df, x=\"quiz_ave\", y=\"midterm_1\")"
   ]
  },
  {
   "cell_type": "code",
   "execution_count": 287,
   "id": "cc4db543-068e-4e77-bca4-bd62cb4a6b5b",
   "metadata": {},
   "outputs": [
    {
     "data": {
      "text/plain": [
       "48.319052851445036"
      ]
     },
     "execution_count": 287,
     "metadata": {},
     "output_type": "execute_result"
    }
   ],
   "source": [
    "reg_x_values = mt_reg.get_lines()[0].get_xdata()\n",
    "reg_y_values = mt_reg.get_lines()[0].get_ydata()\n",
    "slope, intercept = np.polyfit(reg_x_values, reg_y_values, 1)\n",
    "\n",
    "for student_id, midterm_1 in pd.DataFrame(midterm_regression_df.midterm_1).iterrows():\n",
    "    if midterm_1.isna().iloc[0] == True:\n",
    "        missing_quiz_ave = midterm_regression_df.loc[student_id, \"quiz_ave\"]\n",
    "        midterm_1_inferred = slope * missing_quiz_ave + intercept\n",
    "        scores_df = scores_df.replace(midterm_1, midterm_1_inferred)\n",
    "\n",
    "scores_df.loc[8996487694, \"midterm_1\"]"
   ]
  },
  {
   "cell_type": "markdown",
   "id": "d3d5a885-dfe4-4b0f-80c4-f9b2f1cd0aff",
   "metadata": {},
   "source": [
    "# **Calculating Weighted Midterm Average**"
   ]
  },
  {
   "cell_type": "markdown",
   "id": "0fc6f26a-50b0-4fab-bd93-e0697381327c",
   "metadata": {},
   "source": [
    "Now that I have taken care of the missing midterm value I can calculate the weighted midterm average. However, similar to finding the quiz averages, this process is not very straightforward because the weighted average depends on the hierarchy of midterm scores for each unique student. I used an idea similar to calculating the quiz averages where I looped through each 'student_id' value and sliced the dataframes of midterm scores for each student and appended them to a list. Next, I looped through this list and sorted the midterm scores of each student so that I can calculate the weighted average according to the sorted midterm scores using the 'weighted_ave' function. Then I append each weighted average to a new list, which is precisely what is returned by the function, and add the weighted midterm averages to the 'agg_score_df'.  "
   ]
  },
  {
   "cell_type": "code",
   "execution_count": 288,
   "id": "8633cbb2-e0ac-4ecf-b5f8-f695a5ccf5f1",
   "metadata": {},
   "outputs": [
    {
     "data": {
      "text/html": [
       "<div>\n",
       "<style scoped>\n",
       "    .dataframe tbody tr th:only-of-type {\n",
       "        vertical-align: middle;\n",
       "    }\n",
       "\n",
       "    .dataframe tbody tr th {\n",
       "        vertical-align: top;\n",
       "    }\n",
       "\n",
       "    .dataframe thead th {\n",
       "        text-align: right;\n",
       "    }\n",
       "</style>\n",
       "<table border=\"1\" class=\"dataframe\">\n",
       "  <thead>\n",
       "    <tr style=\"text-align: right;\">\n",
       "      <th></th>\n",
       "      <th>quiz_ave</th>\n",
       "      <th>weighted_midterm_ave</th>\n",
       "    </tr>\n",
       "    <tr>\n",
       "      <th>student_id</th>\n",
       "      <th></th>\n",
       "      <th></th>\n",
       "    </tr>\n",
       "  </thead>\n",
       "  <tbody>\n",
       "    <tr>\n",
       "      <th>1367593690</th>\n",
       "      <td>7.111111</td>\n",
       "      <td>64.75</td>\n",
       "    </tr>\n",
       "    <tr>\n",
       "      <th>1567876630</th>\n",
       "      <td>7.666667</td>\n",
       "      <td>75.70</td>\n",
       "    </tr>\n",
       "    <tr>\n",
       "      <th>1617655608</th>\n",
       "      <td>8.111111</td>\n",
       "      <td>75.35</td>\n",
       "    </tr>\n",
       "    <tr>\n",
       "      <th>1830694822</th>\n",
       "      <td>6.888889</td>\n",
       "      <td>56.95</td>\n",
       "    </tr>\n",
       "    <tr>\n",
       "      <th>2267294565</th>\n",
       "      <td>8.388889</td>\n",
       "      <td>69.60</td>\n",
       "    </tr>\n",
       "  </tbody>\n",
       "</table>\n",
       "</div>"
      ],
      "text/plain": [
       "            quiz_ave  weighted_midterm_ave\n",
       "student_id                                \n",
       "1367593690  7.111111                 64.75\n",
       "1567876630  7.666667                 75.70\n",
       "1617655608  8.111111                 75.35\n",
       "1830694822  6.888889                 56.95\n",
       "2267294565  8.388889                 69.60"
      ]
     },
     "execution_count": 288,
     "metadata": {},
     "output_type": "execute_result"
    }
   ],
   "source": [
    "def midterm_weighted_ave(midterm_scores):\n",
    "    midterm_list = []\n",
    "    midterm_weighted_ave = []\n",
    "    \n",
    "    for i in midterm_scores.index:\n",
    "        midterm_list.append(midterm_scores.loc[i, :])\n",
    "    \n",
    "    def weighted_ave(midterm_scores):\n",
    "         return (midterm_scores.iloc[0] * .45) + (midterm_scores.iloc[1] * .35) + (midterm_scores.iloc[2] * .2)\n",
    "    \n",
    "    for student in midterm_list:\n",
    "        student = student.sort_values(ascending=False)\n",
    "        midterm_weighted_ave.append(weighted_ave(student))\n",
    "\n",
    "    return midterm_weighted_ave\n",
    "\n",
    "midterm_scores = scores_df.loc[:,\"midterm_1\":\"midterm_3\"]\n",
    "midterm_weighted_ave = midterm_weighted_ave(midterm_scores)\n",
    "agg_score_df[\"weighted_midterm_ave\"] = np.array(midterm_weighted_ave)\n",
    "agg_score_df.head()"
   ]
  },
  {
   "cell_type": "markdown",
   "id": "8ffab6c6-b954-4efe-9e1c-aad8770f6c58",
   "metadata": {},
   "source": [
    "# **Finalizing the Dataset Aggregation**"
   ]
  },
  {
   "cell_type": "markdown",
   "id": "f52b76ee-4196-4180-86b8-bf8184ecf81b",
   "metadata": {},
   "source": [
    "Now that I have aggregated the quiz and midterm averages, all that is left is to transfer the final scores from the original dataframe into the 'agg_score_df'. "
   ]
  },
  {
   "cell_type": "code",
   "execution_count": 289,
   "id": "7463676d-d62e-4df7-8008-6e820782507a",
   "metadata": {},
   "outputs": [
    {
     "data": {
      "text/html": [
       "<div>\n",
       "<style scoped>\n",
       "    .dataframe tbody tr th:only-of-type {\n",
       "        vertical-align: middle;\n",
       "    }\n",
       "\n",
       "    .dataframe tbody tr th {\n",
       "        vertical-align: top;\n",
       "    }\n",
       "\n",
       "    .dataframe thead th {\n",
       "        text-align: right;\n",
       "    }\n",
       "</style>\n",
       "<table border=\"1\" class=\"dataframe\">\n",
       "  <thead>\n",
       "    <tr style=\"text-align: right;\">\n",
       "      <th></th>\n",
       "      <th>quiz_ave</th>\n",
       "      <th>weighted_midterm_ave</th>\n",
       "      <th>final_score</th>\n",
       "    </tr>\n",
       "    <tr>\n",
       "      <th>student_id</th>\n",
       "      <th></th>\n",
       "      <th></th>\n",
       "      <th></th>\n",
       "    </tr>\n",
       "  </thead>\n",
       "  <tbody>\n",
       "    <tr>\n",
       "      <th>1367593690</th>\n",
       "      <td>7.111111</td>\n",
       "      <td>64.75</td>\n",
       "      <td>96.0</td>\n",
       "    </tr>\n",
       "    <tr>\n",
       "      <th>1567876630</th>\n",
       "      <td>7.666667</td>\n",
       "      <td>75.70</td>\n",
       "      <td>69.0</td>\n",
       "    </tr>\n",
       "    <tr>\n",
       "      <th>1617655608</th>\n",
       "      <td>8.111111</td>\n",
       "      <td>75.35</td>\n",
       "      <td>94.0</td>\n",
       "    </tr>\n",
       "    <tr>\n",
       "      <th>1830694822</th>\n",
       "      <td>6.888889</td>\n",
       "      <td>56.95</td>\n",
       "      <td>52.0</td>\n",
       "    </tr>\n",
       "    <tr>\n",
       "      <th>2267294565</th>\n",
       "      <td>8.388889</td>\n",
       "      <td>69.60</td>\n",
       "      <td>79.0</td>\n",
       "    </tr>\n",
       "  </tbody>\n",
       "</table>\n",
       "</div>"
      ],
      "text/plain": [
       "            quiz_ave  weighted_midterm_ave  final_score\n",
       "student_id                                             \n",
       "1367593690  7.111111                 64.75         96.0\n",
       "1567876630  7.666667                 75.70         69.0\n",
       "1617655608  8.111111                 75.35         94.0\n",
       "1830694822  6.888889                 56.95         52.0\n",
       "2267294565  8.388889                 69.60         79.0"
      ]
     },
     "execution_count": 289,
     "metadata": {},
     "output_type": "execute_result"
    }
   ],
   "source": [
    "final_scores = scores_df.final\n",
    "agg_score_df[\"final_score\"] = scores_df.final\n",
    "agg_score_df.head()"
   ]
  },
  {
   "cell_type": "markdown",
   "id": "97800382-5f69-4556-b51c-e592061205a3",
   "metadata": {},
   "source": [
    "# **Exploratory Data Analysis**"
   ]
  },
  {
   "cell_type": "markdown",
   "id": "cdacb3cf-d339-484a-b2cc-b50c7975bad9",
   "metadata": {},
   "source": [
    "Before we begin the process of curving the aggregated scores, we should first perform some exploratory data analysis to get a sense of how student performance is distributed and determine the proper cut offs we will need to curve the scores, if needed. First, I want to visualize how student performance is distributed for each type of examination, so similar to lecture I created three histograms using seaborn. Looking at the final scores, we can see that some curving will be necessary because most of the scores are around 70-100 and because the final is out of 140 points we can infer from the histogram that the mean score for the final will be fairly low. On the other hand, looking at the quiz averages I immediately noticed that many students are already within the range of a B or an A. So, looking at just the plot I do not feel there is any need to put a significant curve on the quiz averages because the scores are quite high as they are. Looking now at the midterm scores we can see that a curve is also unnecessary because the scores are already left skewed and a clear majority of the class is performing above a 70. Thus, the weighted average is the only 'curve' needed for the midterms and we do not need to further manipulate the distribution of midterm scores. I wanted to back up my visual analysis with some actual statistics so I used the 'describe()' method for the 'agg_score_df' to get some basic statistics for student performance. We can see that the quiz average is already a B- and the 25th percentile is a 7.47 meaning that a large majority of students already have at least a C for the quizzes. On the other hand, the mean for the final exam was around a 60% and so clearly we will need a curve for the final scores. Furthermore, the midterm average is around 77 which is an ideal value and thus curving will not be necessary. "
   ]
  },
  {
   "cell_type": "code",
   "execution_count": 290,
   "id": "5dfbbbea-1b9e-44e6-838f-a1db8f4bd5d8",
   "metadata": {},
   "outputs": [
    {
     "data": {
      "image/png": "[encoded data removed]",
      "text/plain": [
       "<Figure size 1000x600 with 4 Axes>"
      ]
     },
     "metadata": {},
     "output_type": "display_data"
    }
   ],
   "source": [
    "fig, ax = plt.subplots(2,2)\n",
    "plt.rcParams[\"figure.figsize\"] = [10, 6]\n",
    "plt.rcParams[\"figure.autolayout\"] = True\n",
    "sns.histplot(agg_score_df, x=\"final_score\", stat='density', fill=True, alpha=0.3, legend=True, bins =7, color='darkblue', ax=ax[0, 0]);\n",
    "sns.histplot(agg_score_df, x=\"quiz_ave\", stat='density', fill=True, alpha=0.3, legend=True, bins =7, color='red', ax=ax[0, 1]);\n",
    "sns.histplot(agg_score_df, x=\"weighted_midterm_ave\", stat='density', fill=True, alpha=0.3, \n",
    "             legend=True, bins =7, color='darkgreen', ax=ax[1, 0]);"
   ]
  },
  {
   "cell_type": "code",
   "execution_count": 291,
   "id": "972bee47-0f6e-40e7-825f-f7b8ed360501",
   "metadata": {},
   "outputs": [
    {
     "data": {
      "text/html": [
       "<div>\n",
       "<style scoped>\n",
       "    .dataframe tbody tr th:only-of-type {\n",
       "        vertical-align: middle;\n",
       "    }\n",
       "\n",
       "    .dataframe tbody tr th {\n",
       "        vertical-align: top;\n",
       "    }\n",
       "\n",
       "    .dataframe thead th {\n",
       "        text-align: right;\n",
       "    }\n",
       "</style>\n",
       "<table border=\"1\" class=\"dataframe\">\n",
       "  <thead>\n",
       "    <tr style=\"text-align: right;\">\n",
       "      <th></th>\n",
       "      <th>quiz_ave</th>\n",
       "      <th>weighted_midterm_ave</th>\n",
       "      <th>final_score</th>\n",
       "    </tr>\n",
       "  </thead>\n",
       "  <tbody>\n",
       "    <tr>\n",
       "      <th>count</th>\n",
       "      <td>58.000000</td>\n",
       "      <td>58.000000</td>\n",
       "      <td>58.000000</td>\n",
       "    </tr>\n",
       "    <tr>\n",
       "      <th>mean</th>\n",
       "      <td>8.083333</td>\n",
       "      <td>76.992993</td>\n",
       "      <td>84.672414</td>\n",
       "    </tr>\n",
       "    <tr>\n",
       "      <th>std</th>\n",
       "      <td>1.359803</td>\n",
       "      <td>14.387878</td>\n",
       "      <td>26.802977</td>\n",
       "    </tr>\n",
       "    <tr>\n",
       "      <th>min</th>\n",
       "      <td>3.777778</td>\n",
       "      <td>34.043574</td>\n",
       "      <td>19.000000</td>\n",
       "    </tr>\n",
       "    <tr>\n",
       "      <th>25%</th>\n",
       "      <td>7.472222</td>\n",
       "      <td>67.237500</td>\n",
       "      <td>66.000000</td>\n",
       "    </tr>\n",
       "    <tr>\n",
       "      <th>50%</th>\n",
       "      <td>8.305556</td>\n",
       "      <td>78.425000</td>\n",
       "      <td>84.500000</td>\n",
       "    </tr>\n",
       "    <tr>\n",
       "      <th>75%</th>\n",
       "      <td>8.930556</td>\n",
       "      <td>86.537500</td>\n",
       "      <td>103.000000</td>\n",
       "    </tr>\n",
       "    <tr>\n",
       "      <th>max</th>\n",
       "      <td>9.888889</td>\n",
       "      <td>99.800000</td>\n",
       "      <td>134.000000</td>\n",
       "    </tr>\n",
       "  </tbody>\n",
       "</table>\n",
       "</div>"
      ],
      "text/plain": [
       "        quiz_ave  weighted_midterm_ave  final_score\n",
       "count  58.000000             58.000000    58.000000\n",
       "mean    8.083333             76.992993    84.672414\n",
       "std     1.359803             14.387878    26.802977\n",
       "min     3.777778             34.043574    19.000000\n",
       "25%     7.472222             67.237500    66.000000\n",
       "50%     8.305556             78.425000    84.500000\n",
       "75%     8.930556             86.537500   103.000000\n",
       "max     9.888889             99.800000   134.000000"
      ]
     },
     "execution_count": 291,
     "metadata": {},
     "output_type": "execute_result"
    }
   ],
   "source": [
    "agg_score_df.describe()"
   ]
  },
  {
   "cell_type": "markdown",
   "id": "879ca33c-fb8f-4bb6-abbc-ae8aa36518c9",
   "metadata": {},
   "source": [
    "# **Curving the Final**"
   ]
  },
  {
   "cell_type": "markdown",
   "id": "b73aceb4-759b-4fbd-8e38-3b27bd8470d4",
   "metadata": {},
   "source": [
    "After doing the exploratory analysis, I decided that the final scores would indeed need curving. So, I will use quantile curving for this process which will allow me to fit the fairly low final scores into a better performance distribution that is more uniform and boosts the overall grades. I used the 'quantile' method to determine the 12 cut offs for each letter grade and set the first cut off to 0 so that all possible low scores are included in the bottom cut off. The curved final was then determined using the cut function and I renamed the categories for the quantiles to assign letter grades for the cut off interval that each student falls into. Finally, I updated the 'agg_score_df' with the curved final letter grades and created a histogram to visualize the distribution of the curved final grades. The histogram of the curved scores is clearly more unfiormly distributed then the raw final scores as we expected to see and we have successfully boosted student performance for the final. "
   ]
  },
  {
   "cell_type": "code",
   "execution_count": 292,
   "id": "f5a07333-6705-4264-9ca6-9d3e27c2da15",
   "metadata": {},
   "outputs": [],
   "source": [
    "letter_grades = [\"F\", \"D-\", \"D\", \"D+\", \"C-\", \"C\", \"C+\", \"B-\", \"B\", \"B+\", \"A-\", \"A\"]"
   ]
  },
  {
   "cell_type": "code",
   "execution_count": 293,
   "id": "9c7c2bfa-90bf-42cf-9aba-7ce8337e6d1e",
   "metadata": {},
   "outputs": [
    {
     "data": {
      "text/html": [
       "<div>\n",
       "<style scoped>\n",
       "    .dataframe tbody tr th:only-of-type {\n",
       "        vertical-align: middle;\n",
       "    }\n",
       "\n",
       "    .dataframe tbody tr th {\n",
       "        vertical-align: top;\n",
       "    }\n",
       "\n",
       "    .dataframe thead th {\n",
       "        text-align: right;\n",
       "    }\n",
       "</style>\n",
       "<table border=\"1\" class=\"dataframe\">\n",
       "  <thead>\n",
       "    <tr style=\"text-align: right;\">\n",
       "      <th></th>\n",
       "      <th>quiz_ave</th>\n",
       "      <th>weighted_midterm_ave</th>\n",
       "      <th>final_score</th>\n",
       "      <th>curved_final</th>\n",
       "    </tr>\n",
       "    <tr>\n",
       "      <th>student_id</th>\n",
       "      <th></th>\n",
       "      <th></th>\n",
       "      <th></th>\n",
       "      <th></th>\n",
       "    </tr>\n",
       "  </thead>\n",
       "  <tbody>\n",
       "    <tr>\n",
       "      <th>6011937372</th>\n",
       "      <td>9.888889</td>\n",
       "      <td>99.80</td>\n",
       "      <td>134.0</td>\n",
       "      <td>A</td>\n",
       "    </tr>\n",
       "    <tr>\n",
       "      <th>8223787343</th>\n",
       "      <td>9.722222</td>\n",
       "      <td>98.20</td>\n",
       "      <td>129.0</td>\n",
       "      <td>A</td>\n",
       "    </tr>\n",
       "    <tr>\n",
       "      <th>4916395511</th>\n",
       "      <td>9.444444</td>\n",
       "      <td>97.25</td>\n",
       "      <td>127.0</td>\n",
       "      <td>A</td>\n",
       "    </tr>\n",
       "    <tr>\n",
       "      <th>5856390535</th>\n",
       "      <td>9.833333</td>\n",
       "      <td>94.30</td>\n",
       "      <td>126.0</td>\n",
       "      <td>A</td>\n",
       "    </tr>\n",
       "    <tr>\n",
       "      <th>3753516619</th>\n",
       "      <td>9.777778</td>\n",
       "      <td>83.95</td>\n",
       "      <td>126.0</td>\n",
       "      <td>A</td>\n",
       "    </tr>\n",
       "  </tbody>\n",
       "</table>\n",
       "</div>"
      ],
      "text/plain": [
       "            quiz_ave  weighted_midterm_ave  final_score curved_final\n",
       "student_id                                                          \n",
       "6011937372  9.888889                 99.80        134.0            A\n",
       "8223787343  9.722222                 98.20        129.0            A\n",
       "4916395511  9.444444                 97.25        127.0            A\n",
       "5856390535  9.833333                 94.30        126.0            A\n",
       "3753516619  9.777778                 83.95        126.0            A"
      ]
     },
     "execution_count": 293,
     "metadata": {},
     "output_type": "execute_result"
    }
   ],
   "source": [
    "cut_offs = agg_score_df.final_score.quantile(np.arange(0, 1 + 1/12, 1/12))\n",
    "cut_offs[0] = 0\n",
    "curved_final = pd.cut(agg_score_df.final_score, bins=cut_offs)\n",
    "agg_score_df[\"curved_final\"] = curved_final.cat.rename_categories(letter_grades)\n",
    "agg_score_df.sort_values(\"final_score\", ascending=False).head()"
   ]
  },
  {
   "cell_type": "code",
   "execution_count": 294,
   "id": "c6243000-3e58-4928-8bc3-32f30b7eda43",
   "metadata": {},
   "outputs": [
    {
     "data": {
      "text/plain": [
       "<Axes: xlabel='curved_final', ylabel='Count'>"
      ]
     },
     "execution_count": 294,
     "metadata": {},
     "output_type": "execute_result"
    },
    {
     "data": {
      "image/png": "[encoded data removed]",
      "text/plain": [
       "<Figure size 1000x600 with 1 Axes>"
      ]
     },
     "metadata": {},
     "output_type": "display_data"
    }
   ],
   "source": [
    "sns.histplot(agg_score_df, x=\"curved_final\")"
   ]
  },
  {
   "cell_type": "markdown",
   "id": "589d4b1c-6dd1-4340-80e3-34da8af028e2",
   "metadata": {},
   "source": [
    "# **Curving the Midterm Averages**"
   ]
  },
  {
   "cell_type": "markdown",
   "id": "423d4d64-4e19-4cfc-8c62-0c0f45f0af6b",
   "metadata": {},
   "source": [
    "I decided not to use quantile curving for the midterm scores because the midterm score histogram was left skewed and so if we used quantile curving and make the distribution of grades more uniform, we run the risk of actually curving down certain students who might be on the edge of their letter grade. To test this suspicion I actually created the quantile cut offs that would have been used had I decided to curve the scores, and we can see that quantile curving would have actually curved down students with scores of around 90-92 to a B+. Also, the quantiles are very inconsistent in length which means that the difference between say a B- and B is a matter of one or two points. So, I decided to use the standard cutoffs for the letter grades as seen below and used the cut function similar to before in order to get the midterm letter grades. I decided to plot a histogram of the midterm letter grades to get a visual sense of the distribution and as we can see, the grades are distributed nicely through each overall letter grade with students performing well overall. "
   ]
  },
  {
   "cell_type": "code",
   "execution_count": 295,
   "id": "74d4b7c4-95d8-4251-a920-1236a2b86f87",
   "metadata": {},
   "outputs": [
    {
     "data": {
      "text/plain": [
       "0.000000    34.043574\n",
       "0.083333    58.450000\n",
       "0.166667    64.300000\n",
       "0.250000    67.237500\n",
       "0.333333    72.000000\n",
       "0.416667    74.250000\n",
       "0.500000    78.425000\n",
       "0.583333    80.750000\n",
       "0.666667    85.350000\n",
       "0.750000    86.537500\n",
       "0.833333    91.825000\n",
       "0.916667    95.937500\n",
       "1.000000    99.800000\n",
       "Name: weighted_midterm_ave, dtype: float64"
      ]
     },
     "execution_count": 295,
     "metadata": {},
     "output_type": "execute_result"
    }
   ],
   "source": [
    "quantile_cut_offs = agg_score_df.weighted_midterm_ave.quantile(np.arange(0, 1 + 1/12, 1/12))\n",
    "quantile_cut_offs"
   ]
  },
  {
   "cell_type": "code",
   "execution_count": 296,
   "id": "5672d055-3ede-41f0-9ae4-5da2e9d95d99",
   "metadata": {},
   "outputs": [
    {
     "data": {
      "text/html": [
       "<div>\n",
       "<style scoped>\n",
       "    .dataframe tbody tr th:only-of-type {\n",
       "        vertical-align: middle;\n",
       "    }\n",
       "\n",
       "    .dataframe tbody tr th {\n",
       "        vertical-align: top;\n",
       "    }\n",
       "\n",
       "    .dataframe thead th {\n",
       "        text-align: right;\n",
       "    }\n",
       "</style>\n",
       "<table border=\"1\" class=\"dataframe\">\n",
       "  <thead>\n",
       "    <tr style=\"text-align: right;\">\n",
       "      <th></th>\n",
       "      <th>quiz_ave</th>\n",
       "      <th>weighted_midterm_ave</th>\n",
       "      <th>final_score</th>\n",
       "      <th>curved_final</th>\n",
       "      <th>curved_midterms</th>\n",
       "    </tr>\n",
       "    <tr>\n",
       "      <th>student_id</th>\n",
       "      <th></th>\n",
       "      <th></th>\n",
       "      <th></th>\n",
       "      <th></th>\n",
       "      <th></th>\n",
       "    </tr>\n",
       "  </thead>\n",
       "  <tbody>\n",
       "    <tr>\n",
       "      <th>6011937372</th>\n",
       "      <td>9.888889</td>\n",
       "      <td>99.80</td>\n",
       "      <td>134.0</td>\n",
       "      <td>A</td>\n",
       "      <td>A</td>\n",
       "    </tr>\n",
       "    <tr>\n",
       "      <th>3053107449</th>\n",
       "      <td>9.888889</td>\n",
       "      <td>96.05</td>\n",
       "      <td>99.0</td>\n",
       "      <td>B-</td>\n",
       "      <td>A</td>\n",
       "    </tr>\n",
       "    <tr>\n",
       "      <th>5856390535</th>\n",
       "      <td>9.833333</td>\n",
       "      <td>94.30</td>\n",
       "      <td>126.0</td>\n",
       "      <td>A</td>\n",
       "      <td>A</td>\n",
       "    </tr>\n",
       "    <tr>\n",
       "      <th>3753516619</th>\n",
       "      <td>9.777778</td>\n",
       "      <td>83.95</td>\n",
       "      <td>126.0</td>\n",
       "      <td>A</td>\n",
       "      <td>B</td>\n",
       "    </tr>\n",
       "    <tr>\n",
       "      <th>8223787343</th>\n",
       "      <td>9.722222</td>\n",
       "      <td>98.20</td>\n",
       "      <td>129.0</td>\n",
       "      <td>A</td>\n",
       "      <td>A</td>\n",
       "    </tr>\n",
       "  </tbody>\n",
       "</table>\n",
       "</div>"
      ],
      "text/plain": [
       "            quiz_ave  weighted_midterm_ave  final_score curved_final  \\\n",
       "student_id                                                             \n",
       "6011937372  9.888889                 99.80        134.0            A   \n",
       "3053107449  9.888889                 96.05         99.0           B-   \n",
       "5856390535  9.833333                 94.30        126.0            A   \n",
       "3753516619  9.777778                 83.95        126.0            A   \n",
       "8223787343  9.722222                 98.20        129.0            A   \n",
       "\n",
       "           curved_midterms  \n",
       "student_id                  \n",
       "6011937372               A  \n",
       "3053107449               A  \n",
       "5856390535               A  \n",
       "3753516619               B  \n",
       "8223787343               A  "
      ]
     },
     "execution_count": 296,
     "metadata": {},
     "output_type": "execute_result"
    }
   ],
   "source": [
    "mt_cut_offs = [0, 60, 63, 67, 70, 73, 77, 80, 83, 87, 90, 93, 100]\n",
    "curved_mt = pd.cut(agg_score_df.weighted_midterm_ave, bins=mt_cut_offs)\n",
    "agg_score_df[\"curved_midterms\"] = curved_mt.cat.rename_categories(letter_grades)\n",
    "agg_score_df.sort_values(\"quiz_ave\", ascending=False).head()"
   ]
  },
  {
   "cell_type": "code",
   "execution_count": 297,
   "id": "90eb1487-6b71-4e0e-a2b2-bd460a0f016b",
   "metadata": {},
   "outputs": [
    {
     "data": {
      "text/plain": [
       "<Axes: xlabel='curved_midterms', ylabel='Count'>"
      ]
     },
     "execution_count": 297,
     "metadata": {},
     "output_type": "execute_result"
    },
    {
     "data": {
      "image/png": "[encoded data removed]",
      "text/plain": [
       "<Figure size 1000x600 with 1 Axes>"
      ]
     },
     "metadata": {},
     "output_type": "display_data"
    }
   ],
   "source": [
    "sns.histplot(agg_score_df, x=\"curved_midterms\")"
   ]
  },
  {
   "cell_type": "markdown",
   "id": "6f629a2b-23e2-4eb9-8071-dd9b031dede2",
   "metadata": {},
   "source": [
    "# **Curving the Quiz Averages**"
   ]
  },
  {
   "cell_type": "markdown",
   "id": "3eb6fb37-badd-42b3-bcfa-93481fb7d15c",
   "metadata": {},
   "source": [
    "To assign a letter grade for the quiz averages I used a similar process to the way I assigned the midterm letter grades. Because I decided that no curve was necessary for the quiz scores from the exploratory analysis, I used standard grade cutoffs and the cut function to assign the letter grades. Similar to before, I also plotted a histogram of the letter grade distribution and as we can see most students performed well on there quizzes so no further curving is needed. "
   ]
  },
  {
   "cell_type": "code",
   "execution_count": 298,
   "id": "c87ec4dc-826b-4f29-8d2d-9e9a113405eb",
   "metadata": {},
   "outputs": [
    {
     "data": {
      "text/html": [
       "<div>\n",
       "<style scoped>\n",
       "    .dataframe tbody tr th:only-of-type {\n",
       "        vertical-align: middle;\n",
       "    }\n",
       "\n",
       "    .dataframe tbody tr th {\n",
       "        vertical-align: top;\n",
       "    }\n",
       "\n",
       "    .dataframe thead th {\n",
       "        text-align: right;\n",
       "    }\n",
       "</style>\n",
       "<table border=\"1\" class=\"dataframe\">\n",
       "  <thead>\n",
       "    <tr style=\"text-align: right;\">\n",
       "      <th></th>\n",
       "      <th>quiz_ave</th>\n",
       "      <th>weighted_midterm_ave</th>\n",
       "      <th>final_score</th>\n",
       "      <th>curved_final</th>\n",
       "      <th>curved_midterms</th>\n",
       "      <th>curved_quiz</th>\n",
       "    </tr>\n",
       "    <tr>\n",
       "      <th>student_id</th>\n",
       "      <th></th>\n",
       "      <th></th>\n",
       "      <th></th>\n",
       "      <th></th>\n",
       "      <th></th>\n",
       "      <th></th>\n",
       "    </tr>\n",
       "  </thead>\n",
       "  <tbody>\n",
       "    <tr>\n",
       "      <th>1367593690</th>\n",
       "      <td>7.111111</td>\n",
       "      <td>64.75</td>\n",
       "      <td>96.0</td>\n",
       "      <td>B-</td>\n",
       "      <td>D</td>\n",
       "      <td>C-</td>\n",
       "    </tr>\n",
       "    <tr>\n",
       "      <th>1567876630</th>\n",
       "      <td>7.666667</td>\n",
       "      <td>75.70</td>\n",
       "      <td>69.0</td>\n",
       "      <td>D+</td>\n",
       "      <td>C</td>\n",
       "      <td>C</td>\n",
       "    </tr>\n",
       "    <tr>\n",
       "      <th>1617655608</th>\n",
       "      <td>8.111111</td>\n",
       "      <td>75.35</td>\n",
       "      <td>94.0</td>\n",
       "      <td>C+</td>\n",
       "      <td>C</td>\n",
       "      <td>B-</td>\n",
       "    </tr>\n",
       "    <tr>\n",
       "      <th>1830694822</th>\n",
       "      <td>6.888889</td>\n",
       "      <td>56.95</td>\n",
       "      <td>52.0</td>\n",
       "      <td>D-</td>\n",
       "      <td>F</td>\n",
       "      <td>D+</td>\n",
       "    </tr>\n",
       "    <tr>\n",
       "      <th>2267294565</th>\n",
       "      <td>8.388889</td>\n",
       "      <td>69.60</td>\n",
       "      <td>79.0</td>\n",
       "      <td>C-</td>\n",
       "      <td>D+</td>\n",
       "      <td>B</td>\n",
       "    </tr>\n",
       "  </tbody>\n",
       "</table>\n",
       "</div>"
      ],
      "text/plain": [
       "            quiz_ave  weighted_midterm_ave  final_score curved_final  \\\n",
       "student_id                                                             \n",
       "1367593690  7.111111                 64.75         96.0           B-   \n",
       "1567876630  7.666667                 75.70         69.0           D+   \n",
       "1617655608  8.111111                 75.35         94.0           C+   \n",
       "1830694822  6.888889                 56.95         52.0           D-   \n",
       "2267294565  8.388889                 69.60         79.0           C-   \n",
       "\n",
       "           curved_midterms curved_quiz  \n",
       "student_id                              \n",
       "1367593690               D          C-  \n",
       "1567876630               C           C  \n",
       "1617655608               C          B-  \n",
       "1830694822               F          D+  \n",
       "2267294565              D+           B  "
      ]
     },
     "execution_count": 298,
     "metadata": {},
     "output_type": "execute_result"
    }
   ],
   "source": [
    "quiz_cut_offs = [0, 6, 6.3, 6.7, 7, 7.3, 7.7, 8, 8.3, 8.7, 9, 9.3, 10]\n",
    "curved_quiz = pd.cut(agg_score_df.quiz_ave, bins=quiz_cut_offs)\n",
    "agg_score_df[\"curved_quiz\"] = curved_quiz.cat.rename_categories(letter_grades) \n",
    "agg_score_df.head()"
   ]
  },
  {
   "cell_type": "code",
   "execution_count": 299,
   "id": "c76ce5d7-503b-4b35-ab75-d1f8566f67c1",
   "metadata": {},
   "outputs": [
    {
     "data": {
      "text/plain": [
       "<Axes: xlabel='curved_quiz', ylabel='Count'>"
      ]
     },
     "execution_count": 299,
     "metadata": {},
     "output_type": "execute_result"
    },
    {
     "data": {
      "image/png": "[encoded data removed]",
      "text/plain": [
       "<Figure size 1000x600 with 1 Axes>"
      ]
     },
     "metadata": {},
     "output_type": "display_data"
    }
   ],
   "source": [
    "sns.histplot(agg_score_df, x=\"curved_quiz\")"
   ]
  },
  {
   "cell_type": "markdown",
   "id": "7e017f95-38e3-436c-a6da-c6aa10111a96",
   "metadata": {},
   "source": [
    "# **Finding the Weighted GPA Average**"
   ]
  },
  {
   "cell_type": "markdown",
   "id": "1e13a09b-1d36-4938-b085-05347feeee3e",
   "metadata": {},
   "source": [
    "Now that I have assigned letter grades for each students performances, I need to calculate the weighted GPA average which will be used to assign the final letter grades to each student. To do so, I create a dictionary mapping of each letter grade to its respective GPA score using the zip function. Next, I will slice out the letter grades for each student performance from the 'agg_score_df' and append each individual letter grade dataframe to a list. Then I loop through each student's letter grades and calculate the GPA average by using the dictionary mapping to find the associated score for each letter grade and multiply that value by its respective weighting. After appending all the weighted averages to a list, I added them as a new column to the 'agg_score_df'."
   ]
  },
  {
   "cell_type": "code",
   "execution_count": 300,
   "id": "aeb14c6d-1bf5-4a2f-984c-e28dee03a9e5",
   "metadata": {},
   "outputs": [],
   "source": [
    "gpa = [0, 0.7, 1, 1.3, 1.7, 2, 2.3, 2.7, 3, 3.3, 3.7, 4]\n",
    "gpa_map = dict(zip(letter_grades, gpa))\n",
    "\n",
    "curved_letter_grades = []\n",
    "for i in agg_score_df.index:\n",
    "    curved_letter_grades.append(agg_score_df.loc[i, \"curved_final\":])\n",
    "\n",
    "weights = {\"quiz\":.15, \"midterm\":.45, \"final\":.4}\n",
    "gpa_course_ave = []\n",
    "for student in curved_letter_grades:\n",
    "    weighted_gpa = (gpa_map[student.iloc[0]] * weights[\"final\"]) + (gpa_map[student.iloc[1]] * weights[\"midterm\"]) + (gpa_map[student.iloc[2]] * weights[\"quiz\"])\n",
    "    gpa_course_ave.append(weighted_gpa)\n",
    "\n",
    "agg_score_df[\"gpa_weighted_ave\"] = gpa_course_ave"
   ]
  },
  {
   "cell_type": "markdown",
   "id": "7fbdda79-7719-4493-8ec1-d7fa6c1a5373",
   "metadata": {},
   "source": [
    "# **Determining Coures Letter Grades**"
   ]
  },
  {
   "cell_type": "markdown",
   "id": "e2f2cd59-4596-4c99-bff3-88b1203136a3",
   "metadata": {},
   "source": [
    "In order to determine the overall course letter grades for each student I used the weighted GPA average I just calculated and used the cut function with the provided cut offs to assign each students weighted GPA score to an interval determined by the cut offs that will correspond to their final letter grade. After using the cut function I was able to rename the category that each student fell into similar to how I assigned letter grades for each individual performance prior. I then removed some redundant columns from the 'agg_score_df' and only kept the nececssary columns with the addition of the overall letter grades. Lastly, I decided to create a histogram of the overall letter grades to get a sense of how the overall distribution looks. As we can see, the grades are distributed well throughout with a high concentration of students getting C's, which is what we are ideally looking for. Thus, we have successfully determined the overall letter grades for each student. "
   ]
  },
  {
   "cell_type": "code",
   "execution_count": 301,
   "id": "186bab8e-01e1-44b6-8d5c-36c0d14c0762",
   "metadata": {},
   "outputs": [
    {
     "data": {
      "text/html": [
       "<div>\n",
       "<style scoped>\n",
       "    .dataframe tbody tr th:only-of-type {\n",
       "        vertical-align: middle;\n",
       "    }\n",
       "\n",
       "    .dataframe tbody tr th {\n",
       "        vertical-align: top;\n",
       "    }\n",
       "\n",
       "    .dataframe thead th {\n",
       "        text-align: right;\n",
       "    }\n",
       "</style>\n",
       "<table border=\"1\" class=\"dataframe\">\n",
       "  <thead>\n",
       "    <tr style=\"text-align: right;\">\n",
       "      <th></th>\n",
       "      <th>quiz_ave</th>\n",
       "      <th>weighted_midterm_ave</th>\n",
       "      <th>final_score</th>\n",
       "      <th>gpa_weighted_ave</th>\n",
       "      <th>course_grade</th>\n",
       "    </tr>\n",
       "    <tr>\n",
       "      <th>student_id</th>\n",
       "      <th></th>\n",
       "      <th></th>\n",
       "      <th></th>\n",
       "      <th></th>\n",
       "      <th></th>\n",
       "    </tr>\n",
       "  </thead>\n",
       "  <tbody>\n",
       "    <tr>\n",
       "      <th>5856390535</th>\n",
       "      <td>9.833333</td>\n",
       "      <td>94.30</td>\n",
       "      <td>126.0</td>\n",
       "      <td>4.00</td>\n",
       "      <td>A</td>\n",
       "    </tr>\n",
       "    <tr>\n",
       "      <th>3687160969</th>\n",
       "      <td>9.444444</td>\n",
       "      <td>95.90</td>\n",
       "      <td>112.0</td>\n",
       "      <td>3.88</td>\n",
       "      <td>A</td>\n",
       "    </tr>\n",
       "    <tr>\n",
       "      <th>8223787343</th>\n",
       "      <td>9.722222</td>\n",
       "      <td>98.20</td>\n",
       "      <td>129.0</td>\n",
       "      <td>4.00</td>\n",
       "      <td>A</td>\n",
       "    </tr>\n",
       "    <tr>\n",
       "      <th>6011937372</th>\n",
       "      <td>9.888889</td>\n",
       "      <td>99.80</td>\n",
       "      <td>134.0</td>\n",
       "      <td>4.00</td>\n",
       "      <td>A</td>\n",
       "    </tr>\n",
       "    <tr>\n",
       "      <th>4916395511</th>\n",
       "      <td>9.444444</td>\n",
       "      <td>97.25</td>\n",
       "      <td>127.0</td>\n",
       "      <td>4.00</td>\n",
       "      <td>A</td>\n",
       "    </tr>\n",
       "  </tbody>\n",
       "</table>\n",
       "</div>"
      ],
      "text/plain": [
       "            quiz_ave  weighted_midterm_ave  final_score  gpa_weighted_ave  \\\n",
       "student_id                                                                  \n",
       "5856390535  9.833333                 94.30        126.0              4.00   \n",
       "3687160969  9.444444                 95.90        112.0              3.88   \n",
       "8223787343  9.722222                 98.20        129.0              4.00   \n",
       "6011937372  9.888889                 99.80        134.0              4.00   \n",
       "4916395511  9.444444                 97.25        127.0              4.00   \n",
       "\n",
       "           course_grade  \n",
       "student_id               \n",
       "5856390535            A  \n",
       "3687160969            A  \n",
       "8223787343            A  \n",
       "6011937372            A  \n",
       "4916395511            A  "
      ]
     },
     "execution_count": 301,
     "metadata": {},
     "output_type": "execute_result"
    }
   ],
   "source": [
    "gpa_cut_offs = [0, 0.55, 0.85, 1.15, 1.55, 1.85, 2.15, 2.55, 2.85, 3.15, 3.55, 3.85, 4]\n",
    "gpa_categories = pd.cut(agg_score_df.gpa_weighted_ave, bins=gpa_cut_offs, include_lowest=True)\n",
    "agg_score_df[\"course_grade\"] = gpa_categories.cat.rename_categories(letter_grades)\n",
    "agg_score_df = agg_score_df.loc[:,[\"quiz_ave\", \"weighted_midterm_ave\", \"final_score\", \"gpa_weighted_ave\", \"course_grade\"]]\n",
    "agg_score_df.sort_values(\"course_grade\", ascending=False).head()"
   ]
  },
  {
   "cell_type": "code",
   "execution_count": 302,
   "id": "1acd0f26-cff9-4933-a743-7dd4600c9cf4",
   "metadata": {},
   "outputs": [
    {
     "data": {
      "text/plain": [
       "<Axes: xlabel='course_grade', ylabel='Count'>"
      ]
     },
     "execution_count": 302,
     "metadata": {},
     "output_type": "execute_result"
    },
    {
     "data": {
      "image/png": "[encoded data removed]",
      "text/plain": [
       "<Figure size 1000x600 with 1 Axes>"
      ]
     },
     "metadata": {},
     "output_type": "display_data"
    }
   ],
   "source": [
    "sns.histplot(agg_score_df, x=\"course_grade\")"
   ]
  }
 ],
 "metadata": {
  "kernelspec": {
   "display_name": "Python 3 (ipykernel)",
   "language": "python",
   "name": "python3"
  },
  "language_info": {
   "codemirror_mode": {
    "name": "ipython",
    "version": 3
   },
   "file_extension": ".py",
   "mimetype": "text/x-python",
   "name": "python",
   "nbconvert_exporter": "python",
   "pygments_lexer": "ipython3",
   "version": "3.10.12"
  }
 },
 "nbformat": 4,
 "nbformat_minor": 5
}
